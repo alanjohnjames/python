{
 "nbformat": 4,
 "nbformat_minor": 2,
 "metadata": {
  "language_info": {
   "name": "python",
   "codemirror_mode": {
    "name": "ipython",
    "version": 3
   },
   "version": "3.7.5-final"
  },
  "orig_nbformat": 2,
  "file_extension": ".py",
  "mimetype": "text/x-python",
  "name": "python",
  "npconvert_exporter": "python",
  "pygments_lexer": "ipython3",
  "version": 3,
  "kernelspec": {
   "name": "python37564bitalanenvconda82a0991d8ad947f89d3516db0b9d0182",
   "display_name": "Python 3.7.5 64-bit ('alan_env': conda)"
  }
 },
 "cells": [
  {
   "cell_type": "markdown",
   "execution_count": null,
   "metadata": {},
   "outputs": [],
   "source": [
    "# How to create a file output functional pipeline with `toolz.pipe`? \n",
    "\n",
    "**Tags:** [python],  [lambda], [toolz], [functional-programming]\n"
   ]
  },
  {
   "cell_type": "markdown",
   "execution_count": null,
   "metadata": {},
   "outputs": [],
   "source": [
    "A curiously recurring pattern in python, is the need to call the python functions `open`, `write` and `close` to output text to a file. \n",
    "\n",
    "How can `toolz.pipe` be used to compose these functions into a resuable functional pipline?\n"
   ]
  },
  {
   "cell_type": "markdown",
   "execution_count": null,
   "metadata": {},
   "outputs": [],
   "source": [
    "## Imperative implementation\n",
    "\n",
    "Let's start with the following imperative implementation."
   ]
  },
  {
   "cell_type": "code",
   "execution_count": 2,
   "metadata": {},
   "outputs": [
    {
     "name": "stdout",
     "output_type": "stream",
     "text": "Wrote the file `filename1.json` with 42 characters.\n"
    }
   ],
   "source": [
    "import json\n",
    "import _io\n",
    "from dataclasses import dataclass, replace\n",
    "from toolz import compose_left, do, pipe\n",
    "\n",
    "DATA = dict(key=\"json key\", value=\"json value\")\n",
    "TEXT = json.dumps(DATA)\n",
    "FILENAME1 = \"filename1.json\"\n",
    "\n",
    "io = open(FILENAME1, mode='w')                                  # line 1: open\n",
    "chars = io.write(TEXT)                                          # line 2: write\n",
    "io.close()                                                      # line 3: close\n",
    "print(f\"Wrote the file `{FILENAME1}` with {chars} characters.\") # line 4: print\n"
   ]
  },
  {
   "cell_type": "markdown",
   "execution_count": null,
   "metadata": {},
   "outputs": [],
   "source": [
    "This code is an imperative implementation, but this is the way that it is commonly done in python. The value returned by each function is at the module scope and vulnerable to being overwritten. \n",
    "\n",
    "Instead of having to repeat these 3 function calls for every file that we wish to output, it would be convenient to be able to chain these 3 functons together into a single reusable pipeline for writing ourput files. "
   ]
  },
  {
   "cell_type": "markdown",
   "execution_count": null,
   "metadata": {},
   "outputs": [],
   "source": [
    "## Object-oriented implementation\n",
    "\n",
    "This cna be simply and easily implemented simply in object oriented programing, where the object is used to manage the state of the intermediate values returned by each `open` and `write` function call. \n"
   ]
  },
  {
   "cell_type": "code",
   "execution_count": 8,
   "metadata": {},
   "outputs": [
    {
     "name": "stdout",
     "output_type": "stream",
     "text": "Wrote the file `filename2.json` with 42 characters.\n"
    }
   ],
   "source": [
    "\n",
    "@dataclass\n",
    "class File:\n",
    "    \"\"\"File.\"\"\"\n",
    "\n",
    "    name: str\n",
    "    io: _io.TextIOWrapper = None\n",
    "    chars: int = 0\n",
    "\n",
    "    def write(self, text):\n",
    "        \"\"\"Write file.\"\"\"\n",
    "        self.io = open(self.name, mode='w')\n",
    "        self.chars = self.io.write(text)\n",
    "        self.io.close()\n",
    "        return self\n",
    "\n",
    "    def show(self):\n",
    "        \"\"\"Show file.\"\"\"\n",
    "        print(f\"Wrote the file `{self.name}` with {self.chars} characters.\")\n"
   ]
  },
  {
   "cell_type": "markdown",
   "execution_count": null,
   "metadata": {},
   "outputs": [],
   "source": [
    "\n",
    "The object oriented implementaiton can be simply ans consicely reused to output any data to a file anywhere in your program as follows;\n"
   ]
  },
  {
   "cell_type": "code",
   "execution_count": null,
   "metadata": {},
   "outputs": [],
   "source": [
    "FILENAME2 = \"filename2.json\"\n",
    "\n",
    "File(FILENAME2).write(TEXT).show()"
   ]
  },
  {
   "cell_type": "markdown",
   "execution_count": null,
   "metadata": {},
   "outputs": [],
   "source": [
    "\n",
    "This set me thinking; what would the functional programming implementatiom look like?\n",
    " "
   ]
  },
  {
   "cell_type": "markdown",
   "execution_count": null,
   "metadata": {},
   "outputs": [],
   "source": [
    "\n",
    "## Functional implementation\n",
    "\n",
    "I have recently read articles about the many benefits of functional programming. \n",
    "By programming in a functional style, these 3 funcitons could be composed into a single functional pipeline that could be reused without the need to name the intermediate variables storing the state. Another benefit is that the intermediate states can be made immutable and safely encapsulated using a `dataclass`. \n",
    "\n",
    "Using the `toolz.pipe` function, I came up with this implementaiton which produces the same output and side effect (writing file) as the imperative implementation. \n"
   ]
  },
  {
   "cell_type": "code",
   "execution_count": 9,
   "metadata": {},
   "outputs": [
    {
     "data": {
      "text/plain": "'Wrote the file `filename3.json` with 42 characters.'"
     },
     "execution_count": 9,
     "metadata": {},
     "output_type": "execute_result"
    }
   ],
   "source": [
    "@dataclass(frozen=True)\n",
    "class File:\n",
    "    \"\"\"File.\"\"\"\n",
    "\n",
    "    name: str\n",
    "    io: _io.TextIOWrapper = None\n",
    "    chars: int = 0\n",
    "\n",
    "pipe(File(\"filename3.json\"),\n",
    "    lambda file: replace(file, io=open(file.name, mode='w')),                   # line 1: open\n",
    "    lambda file: replace(file, chars=file.io.write(TEXT)),                      # line 2: write\n",
    "    lambda file: do(lambda file: file.io.close(), file),                        # line 3: close\n",
    "    lambda file: f\"Wrote the file `{file.name}` with {file.chars} characters.\") # line 4: print\n"
   ]
  },
  {
   "cell_type": "markdown",
   "execution_count": null,
   "metadata": {},
   "outputs": [],
   "source": [
    "This funcitonal implementation of the pipline of fucntion calls, is not as concise or as simple as the imperative or object orented implementations.\n",
    "\n",
    "I need to understand why this is the case; especially when programming in a functional style promises many benefits.   \n",
    "\n",
    "This leads to the following questions;\n",
    "\n",
    "* Is there a better way to implement this using `toolz.pipe`?\n",
    "\n",
    "    For example;\n",
    "    - Not using so many lambdas. \n",
    "    - Not requiring a `dataclass` to manage the stateful intermediate variables. \n",
    "* Are there some other `toolz` library functions that could be used to improve and simplify the implementation (e.g. `curry`, `compose_left`)? \n",
    "* Is the `toolz.pipe` function being used correctly and as it was intended to be used?\n"
   ]
  },
  {
   "cell_type": "code",
   "execution_count": 0,
   "metadata": {},
   "outputs": [],
   "source": [
    "from toolz import compose_left\n",
    "\n",
    "compose_left()"
   ]
  },
  {
   "cell_type": "code",
   "execution_count": 0,
   "metadata": {},
   "outputs": [],
   "source": [
    "from toolz.curried import pipe "
   ]
  },
  {
   "cell_type": "code",
   "execution_count": 0,
   "metadata": {},
   "outputs": [],
   "source": [
    "compose_left(lambda x: x**2, lambda x: f\"result = {x}\")"
   ]
  }
 ]
}