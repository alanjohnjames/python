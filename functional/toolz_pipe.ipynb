{
 "nbformat": 4,
 "nbformat_minor": 2,
 "metadata": {
  "language_info": {
   "name": "python",
   "codemirror_mode": {
    "name": "ipython",
    "version": 3
   },
   "version": "3.6.2-final"
  },
  "orig_nbformat": 2,
  "file_extension": ".py",
  "mimetype": "text/x-python",
  "name": "python",
  "npconvert_exporter": "python",
  "pygments_lexer": "ipython3",
  "version": 3,
  "kernelspec": {
   "name": "python36264bitalanvenvcondace51637a177c43f2bc3a53c2cc5916c9",
   "display_name": "Python 3.6.2 64-bit ('alan_venv': conda)"
  }
 },
 "cells": [
  {
   "cell_type": "markdown",
   "execution_count": null,
   "metadata": {},
   "outputs": [],
   "source": [
    "# How to create a functional pipeline for file output with `toolz.pipe`? \n",
    "\n",
    "**Tags:** [python],  [lambda], [toolz], [functional-programming]\n"
   ]
  },
  {
   "cell_type": "markdown",
   "execution_count": null,
   "metadata": {},
   "outputs": [],
   "source": [
    "A curiously recurring pattern in python, is the need to call the python functions `open`, `write` and `close` to output text to a file. \n",
    "\n",
    "How can `toolz.pipe` be used to compose these functions into a resuable functional pipline?\n"
   ]
  },
  {
   "cell_type": "markdown",
   "execution_count": null,
   "metadata": {},
   "outputs": [],
   "source": [
    "## Imperative implementation\n",
    "\n",
    "Let's start with the following imperative implementation."
   ]
  },
  {
   "cell_type": "code",
   "execution_count": 1,
   "metadata": {},
   "outputs": [
    {
     "output_type": "stream",
     "name": "stdout",
     "text": "Wrote the file `filename1.json` with 42 characters.\n"
    }
   ],
   "source": [
    "import json\n",
    "\n",
    "DATA = dict(key=\"json key\", value=\"json value\")\n",
    "TEXT = json.dumps(DATA)\n",
    "FILENAME1 = \"filename1.json\"\n",
    "\n",
    "io = open(FILENAME1, mode='w')                                  # line 1: open\n",
    "chars = io.write(TEXT)                                          # line 2: write\n",
    "io.close()                                                      # line 3: close\n",
    "print(f\"Wrote the file `{FILENAME1}` with {chars} characters.\") # line 4: print\n",
    ""
   ]
  },
  {
   "cell_type": "markdown",
   "execution_count": null,
   "metadata": {},
   "outputs": [],
   "source": [
    "This is the way that file output it is commonly done in python. Instead of having to repeat these three function calls for every file that we wish to output, it would be convenient to be able to chain these three functons together into a single reusable pipeline for writing output files. "
   ]
  },
  {
   "cell_type": "markdown",
   "execution_count": null,
   "metadata": {},
   "outputs": [],
   "source": [
    "## Object-oriented implementation\n",
    "\n",
    "This can be simply and easily implemented with object-oriented programing. The object is used to manage the state of the intermediate values returned from each `open` and `write` and `close` function call. \n"
   ]
  },
  {
   "cell_type": "code",
   "execution_count": 2,
   "metadata": {},
   "outputs": [],
   "source": [
    "import _io\n",
    "from dataclasses import dataclass\n",
    "\n",
    "@dataclass\n",
    "class File:\n",
    "    \"\"\"File.\"\"\"\n",
    "\n",
    "    name: str\n",
    "    io: _io.TextIOWrapper = None\n",
    "    chars: int = 0\n",
    "\n",
    "    def write(self, text):\n",
    "        \"\"\"Write file.\"\"\"\n",
    "        self.io = open(self.name, mode='w')\n",
    "        self.chars = self.io.write(text)\n",
    "        self.io.close()\n",
    "        return self\n",
    "\n",
    "    def show(self):\n",
    "        \"\"\"Show file.\"\"\"\n",
    "        print(f\"Wrote the file `{self.name}` with {self.chars} characters.\")\n",
    ""
   ]
  },
  {
   "cell_type": "markdown",
   "execution_count": null,
   "metadata": {},
   "outputs": [],
   "source": [
    "\n",
    "The object oriented implementaiton can be simply and consicely reused to output any data to a file anywhere in your program as follows;\n"
   ]
  },
  {
   "cell_type": "code",
   "execution_count": 3,
   "metadata": {},
   "outputs": [
    {
     "output_type": "stream",
     "name": "stdout",
     "text": "Wrote the file `filename2.json` with 42 characters.\n"
    }
   ],
   "source": [
    "FILENAME2 = \"filename2.json\"\n",
    "\n",
    "File(FILENAME2).write(TEXT).show()"
   ]
  },
  {
   "cell_type": "markdown",
   "execution_count": null,
   "metadata": {},
   "outputs": [],
   "source": [
    "\n",
    "This leads to my actual question;\n",
    "\n",
    "* What should the equivalent functional programming implementatiom look like?\n",
    " "
   ]
  },
  {
   "cell_type": "markdown",
   "execution_count": null,
   "metadata": {},
   "outputs": [],
   "source": [
    "\n",
    "## Functional implementation\n",
    "\n",
    "After having recently read many articles about the many benefits of functional programming, I tired to combine the `open`, `write` and `close` functions into a single functional pipeline that can be reused without the need to name the intermediate variables storing the state. A secondary benefit would be that the intermediate states can be made immutable and safely encapsulated using a `dataclass`. \n",
    "\n",
    "Using the `toolz.pipe` function, I came up with this implementaiton which produces the same output and side effect (writing file) as the imperative implementation. \n"
   ]
  },
  {
   "cell_type": "code",
   "execution_count": 4,
   "metadata": {},
   "outputs": [
    {
     "output_type": "execute_result",
     "data": {
      "text/plain": "'Wrote the file `filename3.json` with 42 characters.'"
     },
     "metadata": {},
     "execution_count": 4
    }
   ],
   "source": [
    "from dataclasses import replace\n",
    "from toolz import do, pipe\n",
    "\n",
    "@dataclass(frozen=True)\n",
    "class File:\n",
    "    \"\"\"File.\"\"\"\n",
    "\n",
    "    name: str\n",
    "    io: _io.TextIOWrapper = None\n",
    "    chars: int = 0\n",
    "\n",
    "pipe(File(\"filename3.json\"),\n",
    "    lambda file: replace(file, io=open(file.name, mode='w')),                   # line 1: open\n",
    "    lambda file: replace(file, chars=file.io.write(TEXT)),                      # line 2: write\n",
    "    lambda file: do(lambda file: file.io.close(), file),                        # line 3: close\n",
    "    lambda file: f\"Wrote the file `{file.name}` with {file.chars} characters.\") # line 4: print"
   ]
  },
  {
   "cell_type": "markdown",
   "execution_count": null,
   "metadata": {},
   "outputs": [],
   "source": [
    "To my surprise, this funcitonal implementation is not nearly as concise or as simple as the imperative and object orented implementations. I need to understand why this is the case; especially since programming in a functional style promises to deliver so many benefits.\n",
    "\n",
    "This leads me to ask the following specific questions;\n",
    "\n",
    "* Is there a better way to implement this using `toolz.pipe`?\n",
    "\n",
    "    For example;\n",
    "    - Not using so many lambdas. \n",
    "    - Not requiring a `dataclass` to manage the stateful intermediate variables. \n",
    "\n",
    "* Are there some other `toolz` library functions that could be used to improve and simplify the implementation (e.g. `curry`, `compose_left`)? \n",
    "* Is the `toolz.pipe` function being used correctly and as it was intended to be used?\n"
   ]
  },
  {
   "cell_type": "code",
   "execution_count": null,
   "metadata": {},
   "outputs": [],
   "source": []
  },
  {
   "cell_type": "code",
   "execution_count": null,
   "metadata": {},
   "outputs": [],
   "source": []
  },
  {
   "cell_type": "code",
   "execution_count": 5,
   "metadata": {},
   "outputs": [
    {
     "output_type": "error",
     "ename": "ImportError",
     "evalue": "cannot import name 'compose_left'",
     "traceback": [
      "\u001b[0;31m---------------------------------------------------------------------------\u001b[0m",
      "\u001b[0;31mImportError\u001b[0m                               Traceback (most recent call last)",
      "\u001b[0;32m<ipython-input-5-a0e5ac0513f4>\u001b[0m in \u001b[0;36m<module>\u001b[0;34m()\u001b[0m\n\u001b[0;32m----> 1\u001b[0;31m \u001b[0;32mfrom\u001b[0m \u001b[0mtoolz\u001b[0m \u001b[0;32mimport\u001b[0m \u001b[0mcompose_left\u001b[0m\u001b[0;34m\u001b[0m\u001b[0m\n\u001b[0m\u001b[1;32m      2\u001b[0m \u001b[0;34m\u001b[0m\u001b[0m\n\u001b[1;32m      3\u001b[0m \u001b[0mcompose_left\u001b[0m\u001b[0;34m(\u001b[0m\u001b[0;34m)\u001b[0m\u001b[0;34m\u001b[0m\u001b[0m\n",
      "\u001b[0;31mImportError\u001b[0m: cannot import name 'compose_left'"
     ]
    }
   ],
   "source": [
    "from toolz import compose_left\n",
    "\n",
    "compose_left()"
   ]
  },
  {
   "cell_type": "code",
   "execution_count": 6,
   "metadata": {},
   "outputs": [],
   "source": [
    "from toolz.curried import pipe "
   ]
  },
  {
   "cell_type": "code",
   "execution_count": 7,
   "metadata": {},
   "outputs": [
    {
     "output_type": "error",
     "ename": "NameError",
     "evalue": "name 'compose_left' is not defined",
     "traceback": [
      "\u001b[0;31m---------------------------------------------------------------------------\u001b[0m",
      "\u001b[0;31mNameError\u001b[0m                                 Traceback (most recent call last)",
      "\u001b[0;32m<ipython-input-7-cf5b409464f3>\u001b[0m in \u001b[0;36m<module>\u001b[0;34m()\u001b[0m\n\u001b[0;32m----> 1\u001b[0;31m \u001b[0mcompose_left\u001b[0m\u001b[0;34m(\u001b[0m\u001b[0;32mlambda\u001b[0m \u001b[0mx\u001b[0m\u001b[0;34m:\u001b[0m \u001b[0mx\u001b[0m\u001b[0;34m**\u001b[0m\u001b[0;36m2\u001b[0m\u001b[0;34m,\u001b[0m \u001b[0;32mlambda\u001b[0m \u001b[0mx\u001b[0m\u001b[0;34m:\u001b[0m \u001b[0;34mf\"result = {x}\"\u001b[0m\u001b[0;34m)\u001b[0m\u001b[0;34m\u001b[0m\u001b[0m\n\u001b[0m",
      "\u001b[0;31mNameError\u001b[0m: name 'compose_left' is not defined"
     ]
    }
   ],
   "source": [
    "compose_left(lambda x: x**2, lambda x: f\"result = {x}\")"
   ]
  },
  {
   "cell_type": "code",
   "execution_count": null,
   "metadata": {},
   "outputs": [],
   "source": []
  }
 ]
}