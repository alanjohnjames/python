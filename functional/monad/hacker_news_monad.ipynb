{
  "metadata": {
    "kernelspec": {
      "name": "python36",
      "display_name": "Python 3.6",
      "language": "python"
    },
    "language_info": {
      "mimetype": "text/x-python",
      "nbconvert_exporter": "python",
      "name": "python",
      "pygments_lexer": "ipython3",
      "version": "3.6.6",
      "file_extension": ".py",
      "codemirror_mode": {
        "version": 3,
        "name": "ipython"
      }
    }
  },
  "nbformat_minor": 2,
  "nbformat": 4,
  "cells": [
    {
      "cell_type": "markdown",
      "source": "# [...And Monads for (Almost) All: The State Monad](http://rcardin.github.io/design/programming/fp/monad/2018/11/22/and-monads-for-all-state-monad.html)\n",
      "metadata": {}
    },
    {
      "cell_type": "markdown",
      "source": "Hacker News new | comments | show | ask | jobs | submit\tlogin\ncurryhoward 37 days ago | parent | favorite | on: And Monads for All: The State Monad\n\nI think this article makes a simple concept seem unnecessarily convoluted. The first paragraph says:\n> This very complex object coming from the Category Theory is so important in functional programming that is very hard to program without it in this kind of paradigm.\n\nMay I try to dispel this myth that monads (and functional programming ideas in general) are complex?\n\nNew functional programmer are often faced with a dilemma: how do I do side effects (e.g., mutable state) in a purely functional way? Isn't that a contradiction? In 1989, Eugenio Moggi gave us a compelling answer to these questions: monads. The idea of monads originally comes from category theory, but category theory is not at all necessary to understand them as they apply to programming.\n\nWe start with this: since a pure functional programming language doesn't have step-by-step procedures built into the language, we instead have to choose our own suitable representation for impure programs and define a notion for composing them together. For example, a stateful program (a program that has read/write access to some piece of mutable state) can be represented by a function which takes the initial state and returns a value and the new state (as a pair).\n\nSo, for example, if the mutable state is some integer value, then stateful programs that return a value of type `a` will have this type:\n\n    Int -> (a, Int)\n\nLet's give that type constructor a convenient name:\n\n    StatefulProgram(a) = Int -> (a, Int)\n\nOne key piece of the story is that this type constructor is a functor, which is just a fancy way to say that we can `map` over it (like we can for lists):\n\n```\nmap(f, program) = function(initialState) {\n    (result, newState) = program(initialState)\n    return (f(result), newState)\n  }\n```\n\nThen, if we have a stateful program which produces a string (i.e., its type is `StatefulProgram(String)`) and a function `stringLength` which takes a string and returns its length, we could easily convert the program into a new program that returns the length of the string instead of the string itself:\n\n    newProgram = map(program, stringLength)\n\nAnother way to phrase this is: we can compose a stateful program with a pure function to get a new stateful program. But that's not quite enough to write useful programs. We need to be able to compose two stateful programs together. There are a few equivalent ways to define this. In Haskell, we would have a function pronounced bind that takes a stateful program and a callback. The callback gets the result of the stateful program and returns a new stateful program to run next.\n\n```\nbind(program, callback) = function(initialState) {\n    (result, newState) = program(initialState)\n    newProgram = callback(result)\n    return newProgram(newState)\n  }\n```\n\nSome languages call this function `flatMap` instead of `bind`. In JavaScript, this is like the `then` function for promises. Whatever we call it, we can easily use it to write a helper function which sequences two stateful programs:\n\n```\n  sequence(program1, program2) = bind(program1, function(result) {\n    return program2\n  })\n```\n\nThis amounts to running the first program, throwing away its result (see that the `result` variable is never used), and then running the second program.\nOne more ingredient is needed to make this `StatefulProgram` idea really useful. We need a way to construct a stateful program that just produces a value without touching the state. We'll call this function `pure`:\n\n```\n  pure(x) = function(initialState) {\n    return (x, initialState)\n  }\n```\n\nHere's what makes `StatefulProgram` a monad:\na) First of all, it needs to be a functor. That amounts to having a `map` function like we defined above.\nb) We need a way to construct a `StatefulProgram(a)` given an `a`. That's our `pure` function.\nc) We need some notion of composition. That's given by our `bind` function. (And note that `sequence` is just a special case of `bind` where the callback doesn't use its argument.)\nCategory theory also gives us some common sense laws that monads must satisfy. For example, `bind(pure(x), callback) = callback(x)`.\n\nThe brilliant insight of Eugenio Moggi is that these three functions are essentially an interface for any kind of side effect. Mutable state is just one example. We could represent other kinds of side-effectful programs in the same way. For example, a program which returns multiple times could be represented as a list. Then the `map` and `flatMap`/`bind` functions are exactly what you expect, and the `pure` function just constructs a list with a single element. Other examples of monads are IO (for interacting with the operating system), continuations (for doing fancy control flow), maybe/optional (for programs that may return a `null` value), exceptions, logging, reading from an environment (e.g., for threading environment variables through your program), etc. They all have the same interface, which is represented in Haskell as the `Monad` type class (type classes are Haskell's notion of interfaces).\n\nHaskell also provides a convenient syntax called `do notation` for working with monads (this is a vast generalization of the async/await syntax that is creeping into some popular languages). For example, a stateful program that reads the state and mutates it could be written like this:\n\n```haskell\n  program = do\n    x <- get     -- Read the state\n    put 3        -- Update the state\n    pure (x + 3) -- Return what the state used to be plus 3\n```\n\nIn our syntax, that would be equivalent to writing:\n\n```\nprogram = bind(get, function(x) {\n    return bind(put(3), function(result) {\n      return pure(x + 3)\n    })\n  })\n```\n\nThat callback hell is quite an eyesore, and I think that's one of several reasons why monads are not very popular outside of the Haskell community.\n",
      "metadata": {}
    },
    {
      "cell_type": "markdown",
      "source": "\n**curryhoward 43 days ago | parent | favorite | on: [And Monads for All: The State Monad](https://news.ycombinator.com/item?id=18520321)**\n\nI think this article makes a simple concept seem unnecessarily convoluted. The first paragraph says:\n> This very complex object coming from the Category Theory is so important in functional programming that is very hard to program without it in this kind of paradigm.\n\nMay I try to dispel this myth that monads (and functional programming ideas in general) are complex?\n\nNew functional programmer are often faced with a dilemma: how do I do side effects (e.g., mutable state) in a purely functional way? Isn't that a contradiction? In 1989, Eugenio Moggi gave us a compelling answer to these questions: monads. The idea of monads originally comes from category theory, but category theory is not at all necessary to understand them as they apply to programming.\n\nWe start with this: since a pure functional programming language doesn't have step-by-step procedures built into the language, we instead have to choose our own suitable representation for impure programs and define a notion for composing them together. For example, a stateful program (a program that has read/write access to some piece of mutable state) can be represented by a function which takes the initial state and returns a value and the new state (as a pair).\n\nSo, for example, if the mutable state is some integer value, then stateful programs that return a value of type `a` will have this type:\n\n    Int -> (a, Int)\n\nLet's give that type constructor a convenient name:\n\n    StatefulProgram(a) = Int -> (a, Int)\n\nOne key piece of the story is that this type constructor is a functor, which is just a fancy way to say that we can `map` over it (like we can for lists):\n\n    map(f, program) = function(initialState) {\n        (result, newState) = program(initialState)\n        return (f(result), newState)\n    }\n\nThen, if we have a stateful program which produces a string (i.e., its type is `StatefulProgram(String)`) and a function `stringLength` which takes a string and returns its length, we could easily convert the program into a new program that returns the length of the string instead of the string itself:\n\n    newProgram = map(program, stringLength)\n\nAnother way to phrase this is: we can compose a stateful program with a pure function to get a new stateful program. But that's not quite enough to write useful programs. We need to be able to compose two stateful programs together. There are a few equivalent ways to define this. In Haskell, we would have a function pronounced bind that takes a stateful program and a callback. The callback gets the result of the stateful program and returns a new stateful program to run next.\n\n    bind(program, callback) = function(initialState) {\n        (result, newState) = program(initialState)\n        newProgram = callback(result)\n        return newProgram(newState)\n    }\n\nSome languages call this function `flatMap` instead of `bind`. In JavaScript, this is like the `then` function for promises. Whatever we call it, we can easily use it to write a helper function which sequences two stateful programs:\n\n    sequence(program1, program2) = bind(program1, function(result) {\n        return program2\n    })\n\nThis amounts to running the first program, throwing away its result (see that the `result` variable is never used), and then running the second program.\n\nOne more ingredient is needed to make this `StatefulProgram` idea really useful. We need a way to construct a stateful program that just produces a value without touching the state. We'll call this function `pure`:\n\n    pure(x) = function(initialState) {\n        return (x, initialState)\n    }\n\nHere's what makes `StatefulProgram` a monad:\n\n**a)** First of all, it needs to be a functor. That amounts to having a `map` function like we defined above.\n\n**b)** We need a way to construct a `StatefulProgram(a)` given an `a`. That's our `pure` function.\n\n**c)** We need some notion of composition. That's given by our `bind` function. (And note that `sequence` is just a special case of `bind` where the callback doesn't use its argument.)\n\nCategory theory also gives us some common sense laws that monads must satisfy. For example, `bind(pure(x), callback) = callback(x)`.\n\nThe brilliant insight of Eugenio Moggi is that these three functions are essentially an interface for any kind of side effect. Mutable state is just one example. We could represent other kinds of side-effectful programs in the same way. For example, a program which returns multiple times could be represented as a list. Then the `map` and `flatMap`/`bind` functions are exactly what you expect, and the `pure` function just constructs a list with a single element. Other examples of monads are IO (for interacting with the operating system), continuations (for doing fancy control flow), maybe/optional (for programs that may return a `null` value), exceptions, logging, reading from an environment (e.g., for threading environment variables through your program), etc. They all have the same interface, which is represented in Haskell as the `Monad` type class (type classes are Haskell's notion of interfaces).\n\nHaskell also provides a convenient syntax called `do notation` for working with monads (this is a vast generalization of the async/await syntax that is creeping into some popular languages). For example, a stateful program that reads the state and mutates it could be written like this:\n\n    program = do\n        x <- get     -- Read the state\n        put 3        -- Update the state\n        pure (x + 3) -- Return what the state used to be plus 3\n\nIn our syntax, that would be equivalent to writing:\n\n```haskell\nprogram = bind(get, function(x) {\n    return bind(put(3), function(result) {\n      return pure(x + 3)\n    })\n})\n```\n\nThat callback hell is quite an eyesore, and I think that's one of several reasons why monads are not very popular outside of the Haskell community.\n\n\n**neurotrace 43 days ago [-]**\n\nI have read a large number of articles that tried to explain these concepts but they never stuck. This comment just blew them all away. The concept seems almost obvious now haha\n\n\n**pimeys 43 days ago [-]**\n\nIt is an obvious and very useful abstraction you use a lot in many different languages. The gp explanation might be the best I've read about monads.\n\n**bcherny 43 days ago [-]**\n\nThis is a phenomenal explanation! I especially like the context around where these concepts come from.\n\nAnother great treatment of this is the chapter on monads in Functional Programming in Scala.\n\n**hcho 43 days ago [-]**\n\nChaining is as old as hills and can be used to avoid callback hells. What monads are really is a type respecting chainable object with 3 methods: value, map and then.\n\n**pimeys 43 days ago [-]**\n\nIf I remember correctly map comes from functor, and every monad is also a functor.\n\n**peteretep 43 days ago [-]**\n\nA strong explanation, great work!\n\n",
      "metadata": {}
    },
    {
      "cell_type": "markdown",
      "source": "**[curryhoward 43 days ago | parent | favorite | on: And Monads for All: The State Monad](https://news.ycombinator.com/item?id=18520321)**\n\nI think this article makes a simple concept seem unnecessarily convoluted. The first paragraph says:\n> This very complex object coming from the Category Theory is so important in functional programming that is very hard to program without it in this kind of paradigm.\n\nMay I try to dispel this myth that monads (and functional programming ideas in general) are complex?\n\nNew functional programmer are often faced with a dilemma: how do I do side effects (e.g., mutable state) in a purely functional way? Isn't that a contradiction? In 1989, Eugenio Moggi gave us a compelling answer to these questions: monads. The idea of monads originally comes from category theory, but category theory is not at all necessary to understand them as they apply to programming.\n\nWe start with this: since a pure functional programming language doesn't have step-by-step procedures built into the language, we instead have to choose our own suitable representation for impure programs and define a notion for composing them together. For example, a stateful program (a program that has read/write access to some piece of mutable state) can be represented by a function which takes the initial state and returns a value and the new state (as a pair).\n\nSo, for example, if the mutable state is some integer value, then stateful programs that return a value of type `a` will have this type:\n\n    Int -> (a, Int)\n\nLet's give that type constructor a convenient name:\n\n    StatefulProgram(a) = Int -> (a, Int)\n\nOne key piece of the story is that this type constructor is a functor, which is just a fancy way to say that we can `map` over it (like we can for lists):\n\n    map(f, program) = function(initialState) {\n        (result, newState) = program(initialState)\n        return (f(result), newState)\n    }\n\nThen, if we have a stateful program which produces a string (i.e., its type is `StatefulProgram(String)`) and a function `stringLength` which takes a string and returns its length, we could easily convert the program into a new program that returns the length of the string instead of the string itself:\n\n    newProgram = map(program, stringLength)\n\nAnother way to phrase this is: we can compose a stateful program with a pure function to get a new stateful program. But that's not quite enough to write useful programs. We need to be able to compose two stateful programs together. There are a few equivalent ways to define this. In Haskell, we would have a function pronounced bind that takes a stateful program and a callback. The callback gets the result of the stateful program and returns a new stateful program to run next.\n\n    bind(program, callback) = function(initialState) {\n        (result, newState) = program(initialState)\n        newProgram = callback(result)\n        return newProgram(newState)\n    }\n\nSome languages call this function `flatMap` instead of `bind`. In JavaScript, this is like the `then` function for promises. Whatever we call it, we can easily use it to write a helper function which sequences two stateful programs:\n\n    sequence(program1, program2) = bind(program1, function(result) {\n        return program2\n    })\n\nThis amounts to running the first program, throwing away its result (see that the `result` variable is never used), and then running the second program.\n\nOne more ingredient is needed to make this `StatefulProgram` idea really useful. We need a way to construct a stateful program that just produces a value without touching the state. We'll call this function `pure`:\n\n    pure(x) = function(initialState) {\n        return (x, initialState)\n    }\n\nHere's what makes `StatefulProgram` a monad:\n\na) First of all, it needs to be a functor. That amounts to having a `map` function like we defined above.\n\nb) We need a way to construct a `StatefulProgram(a)` given an `a`. That's our `pure` function.\n\nc) We need some notion of composition. That's given by our `bind` function. (And note that `sequence` is just a special case of `bind` where the callback doesn't use its argument.)\n\nCategory theory also gives us some common sense laws that monads must satisfy. For example, `bind(pure(x), callback) = callback(x)`.\n\nThe brilliant insight of Eugenio Moggi is that these three functions are essentially an interface for any kind of side effect. Mutable state is just one example. We could represent other kinds of side-effectful programs in the same way. For example, a program which returns multiple times could be represented as a list. Then the `map` and `flatMap`/`bind` functions are exactly what you expect, and the `pure` function just constructs a list with a single element. Other examples of monads are IO (for interacting with the operating system), continuations (for doing fancy control flow), maybe/optional (for programs that may return a `null` value), exceptions, logging, reading from an environment (e.g., for threading environment variables through your program), etc. They all have the same interface, which is represented in Haskell as the `Monad` type class (type classes are Haskell's notion of interfaces).\n\nHaskell also provides a convenient syntax called `do notation` for working with monads (this is a vast generalization of the async/await syntax that is creeping into some popular languages). For example, a stateful program that reads the state and mutates it could be written like this:\n\n```haskell\n    program = do\n        x <- get     -- Read the state\n        put 3        -- Update the state\n        pure (x + 3) -- Return what the state used to be plus 3\n```\n\nIn our syntax, that would be equivalent to writing:\n\n    program = bind(get, function(x) {\n        return bind(put(3), function(result) {\n            return pure(x + 3)\n        })\n    })\n\nThat callback hell is quite an eyesore, and I think that's one of several reasons why monads are not very popular outside of the Haskell community.\n",
      "metadata": {}
    },
    {
      "cell_type": "markdown",
      "source": "# Type constructor",
      "metadata": {}
    },
    {
      "cell_type": "code",
      "source": "from typing import Tuple\nfrom typing import TypeVar\n\na = TypeVar('a')\n\ndef statefulProgram(a) -> Tuple[a, int]:\n    return Tuple[a, int]",
      "metadata": {
        "trusted": true
      },
      "execution_count": 1,
      "outputs": []
    },
    {
      "cell_type": "code",
      "source": "statefulProgram(str)",
      "metadata": {
        "trusted": true
      },
      "execution_count": 2,
      "outputs": [
        {
          "output_type": "execute_result",
          "execution_count": 2,
          "data": {
            "text/plain": "typing.Tuple[str, int]"
          },
          "metadata": {}
        }
      ]
    },
    {
      "cell_type": "code",
      "source": "statefulProgram(int)",
      "metadata": {
        "trusted": true
      },
      "execution_count": 3,
      "outputs": [
        {
          "output_type": "execute_result",
          "execution_count": 3,
          "data": {
            "text/plain": "typing.Tuple[int, int]"
          },
          "metadata": {}
        }
      ]
    },
    {
      "cell_type": "markdown",
      "source": "# Map function",
      "metadata": {}
    },
    {
      "cell_type": "code",
      "source": "def fmap(f, program): \n    def function(initialState):\n        result, newState = program(initialState)\n        return f(result), newState\n    return function",
      "metadata": {
        "trusted": true
      },
      "execution_count": 4,
      "outputs": []
    },
    {
      "cell_type": "code",
      "source": "def stringLength(s):\n    return len(s)",
      "metadata": {
        "trusted": true
      },
      "execution_count": 5,
      "outputs": []
    },
    {
      "cell_type": "code",
      "source": "program = lambda program_state: (\"no result\", program_state - 1)",
      "metadata": {
        "trusted": true
      },
      "execution_count": 6,
      "outputs": []
    },
    {
      "cell_type": "code",
      "source": "newProgram = fmap(stringLength, program)",
      "metadata": {
        "trusted": true
      },
      "execution_count": 7,
      "outputs": []
    },
    {
      "cell_type": "code",
      "source": "program",
      "metadata": {
        "trusted": true
      },
      "execution_count": 8,
      "outputs": [
        {
          "output_type": "execute_result",
          "execution_count": 8,
          "data": {
            "text/plain": "<function __main__.<lambda>(program_state)>"
          },
          "metadata": {}
        }
      ]
    },
    {
      "cell_type": "code",
      "source": "newProgram",
      "metadata": {
        "trusted": true
      },
      "execution_count": 9,
      "outputs": [
        {
          "output_type": "execute_result",
          "execution_count": 9,
          "data": {
            "text/plain": "<function __main__.fmap.<locals>.function(initialState)>"
          },
          "metadata": {}
        }
      ]
    },
    {
      "cell_type": "code",
      "source": "initialState = 5",
      "metadata": {
        "trusted": true
      },
      "execution_count": 10,
      "outputs": []
    },
    {
      "cell_type": "code",
      "source": "program(initialState)",
      "metadata": {
        "trusted": true
      },
      "execution_count": 11,
      "outputs": [
        {
          "output_type": "execute_result",
          "execution_count": 11,
          "data": {
            "text/plain": "('no result', 4)"
          },
          "metadata": {}
        }
      ]
    },
    {
      "cell_type": "code",
      "source": "newProgram(initialState)",
      "metadata": {
        "trusted": true
      },
      "execution_count": 12,
      "outputs": [
        {
          "output_type": "execute_result",
          "execution_count": 12,
          "data": {
            "text/plain": "(9, 4)"
          },
          "metadata": {}
        }
      ]
    },
    {
      "cell_type": "markdown",
      "source": "**Note:** The type of the result has changed from a `str` to an `int` !\n\nThat can't be right... ?",
      "metadata": {}
    },
    {
      "cell_type": "markdown",
      "source": "# Bind function",
      "metadata": {}
    },
    {
      "cell_type": "code",
      "source": "",
      "metadata": {
        "trusted": true
      },
      "execution_count": null,
      "outputs": []
    },
    {
      "cell_type": "code",
      "source": "",
      "metadata": {},
      "execution_count": null,
      "outputs": []
    }
  ]
}